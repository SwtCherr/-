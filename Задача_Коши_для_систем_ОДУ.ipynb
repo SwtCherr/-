{
  "nbformat": 4,
  "nbformat_minor": 0,
  "metadata": {
    "colab": {
      "provenance": []
    },
    "kernelspec": {
      "name": "python3",
      "display_name": "Python 3"
    },
    "language_info": {
      "name": "python"
    }
  },
  "cells": [
    {
      "cell_type": "markdown",
      "source": [
        "# Задача Коши для систем ОДУ\n",
        "\n",
        "Задача Коши для ОДУ первого порядка формулируется следующим образом:\n",
        "\n",
        "$$\n",
        "\\left\\{\n",
        "\\begin{aligned}\n",
        "&y^\\prime = f(x, y),  \\quad x > 0, \\\\\n",
        "&y(0) = y_0.\n",
        "\\end{aligned}\n",
        "\\right.\n",
        "$$\n",
        "\n",
        "Как известно, к такой форме можно привести обыкновенные уравнения порядка выше первого.\n",
        "\n",
        "## Схема Эйлера\n",
        "\n",
        "Существует множество способов аппроксимировать значение производной функции в точке значениями функции в соседних узлах. Для этого достаточно учесть, что\n",
        "\n",
        "$$y(x_0 + h) = y(x_0) + h y^\\prime (x_0) + o(h), \\quad h \\to 0.$$\n",
        "\n",
        "Используя это соотношение, можно получить следующие способы аппроксимации дифференциального уравнения в задаче Коши разностными схемами:\n",
        "\n",
        "$$\n",
        "\\frac{y_{n+1} - y_{n}}{h} = f(x_n, y_n) \\; \\text{ -- явная схема Эйлера;}\n",
        "$$\n",
        "\n",
        "$$\n",
        "\\frac{y_{n+1} - y_{n}}{h} = f(x_{n+1}, y_{н+1}) \\; \\text{ -- неявная схема Эйлера;}\n",
        "$$\n",
        "\n",
        "$$\n",
        "\\frac{y_{n+1} - y_{n-1}}{2h} = f(x_n, y_n) \\; \\text{ -- схема Эйлера с центральной точкой.}\n",
        "$$\n",
        "\n",
        "Наиболее удобной из представленных схем является явная схема, потому что вычисления значений в узлах проводятся последовательно. Неявная же схема и схема с центральной точкой на каждом шаге требуют решения системы нелинейных уравнений.\n",
        "\n",
        "## Явные методы Рунге-Кутты\n",
        "\n",
        "Описанный выше явный метод Эйлера является представителем класса методов, называемых $s$-стадийными явными методами Рунге-Кутты, где решение в общем случае имеет следующий вид:\n",
        "\n",
        "$$\n",
        "\\begin{aligned}\n",
        "& k_i = f \\left( x_n + c_i h, y_n + h \\sum_{j=1}^{i-1} a_{ij} k_j \\right), \\quad i=1,2,\\ldots,s, \\\\\n",
        "& y_{n+1} = y_n + h \\sum_{i=1}^{s} b_i k_i.\n",
        "\\end{aligned}\n",
        "$$\n",
        "\n",
        "Если коэффициентам метода присвоить следующие значения $a_{11} = 0, c_1 = 0, b_1 = 1$, получится явный метод Эйлера.\n",
        "\n",
        "Для упрощения выкладок при выборе коэффициентов принято придерживаться необязательного условия Кутты: $c_i = \\sum_{j=1}^{s} a_{ij}$.\n",
        "\n",
        "## Движение тела, брошенного под углом к горизонту\n",
        "\n",
        "В качестве примера решим задачу о движении тела, брошенного под углом к горизонту. Для этого будем учитывать не только силу тяжести $F_{\\text{тяж}} = mg$, но и силу сопротивления воздуха $F_{\\text{сопр}} = -k|v|v$. В таком случае данная задача описывается следующей системой дифференциальных уравнений:\n",
        "\n",
        "$$\n",
        "\\left\\{\n",
        "\\begin{aligned}\n",
        "m\\ddot{r} &= mg -k|v|v, \\\\\n",
        "r(0) &= (x_0, y_0)^T, \\\\\n",
        "\\dot{r}(0) &= (v_0 \\cos \\alpha, v_0 \\sin \\alpha)^T,\n",
        "\\end{aligned}\n",
        "\\right.\n",
        "$$\n",
        "\n",
        "Однако, в таком виде эту систему нельзя решить описанными выше методами. Тем не менее, если переписать уравнения для вектора $u = (x, y, v_x, v_y)^T$, мы получим систему ОДУ первого порядка, а именно:\n",
        "\n",
        "$$\n",
        "\\left\\{\n",
        "\\begin{aligned}\n",
        "\\frac{d}{dt} \\left(x, y, v_x, v_y\\right)^T &= \\left(v_x, v_y, -\\frac{k}{m}\\sqrt{v_x^2 + v_y^2}, -g-\\frac{k}{m}\\sqrt{v_x^2 + v_y^2}\\right)^T, \\\\\n",
        "\\left. \\left(x, y, v_x, v_y\\right)^T\\right|_{t=0} &= \\left(x_0, y_0, v_0 \\cos \\alpha, v_0 \\sin \\alpha\\right)^T.\n",
        "\\end{aligned}\n",
        "\\right.\n",
        "$$\n",
        "\n",
        "Ниже приведен пример кода на Python для моделирования траектории движения тела с помощью явного метода Эйлера:\n"
      ],
      "metadata": {
        "id": "qlOoIJP8gOFn"
      }
    },
    {
      "cell_type": "code",
      "source": [
        "import numpy as np\n",
        "import matplotlib.pyplot as plt\n",
        "\n",
        "\n",
        "class ProjectileMotion:\n",
        "    def __init__(self, T, M, mass, v0, k, alpha, g=9.8, x0=0.0, y0=0.0, t0=0.0):\n",
        "        self.mass = mass  # Mass of the body\n",
        "        self.k = k  # Friction coefficient\n",
        "        self.alpha = alpha  # Launch angle\n",
        "        self.g = g  # Free fall acceleration\n",
        "\n",
        "\n",
        "        self.T = T  # Total simulation time\n",
        "        self.M = M  # Number of intervals\n",
        "        self.u = np.zeros((self.M + 1, 4)) # Solution vector\n",
        "\n",
        "        # Set initial conditions\n",
        "        self.t0 = t0\n",
        "        self.v0 = v0\n",
        "        self.u[0, 0] = x0\n",
        "        self.u[0, 1] = y0\n",
        "        self.u[0, 2] = self.v0 * np.cos(self.alpha)\n",
        "        self.u[0, 3] = self.v0 * np.sin(self.alpha)\n",
        "\n",
        "        self.tau = (self.T - self.t0) / self.M # Time step size\n",
        "\n",
        "        self.t = np.linspace(self.t0, self.T, self.M + 1) # Time grid\n",
        "\n",
        "    def f(self, u):\n",
        "        f = np.zeros(4)\n",
        "\n",
        "        f[0] = u[2]\n",
        "        f[1] = u[3]\n",
        "        f[2] = -self.k / self.mass * np.sqrt(u[2]**2 + u[3]**2) * u[2]\n",
        "        f[3] = -self.g - self.k / self.mass * np.sqrt(u[2]**2 + u[3]**2) * u[3]\n",
        "\n",
        "        return f\n",
        "\n",
        "    def solve(self):\n",
        "        for m in range(self.M):\n",
        "            self.u[m + 1] = self.u[m] + self.tau * self.f(self.u[m])\n",
        "\n",
        "        return self.u\n",
        "\n",
        "    def plot_trajectory(self):\n",
        "        plt.figure()\n",
        "        plt.plot(self.u[:, 0], self.u[:, 1], '-bo', linewidth=1, markersize=2)\n",
        "        plt.title('Trajectory')\n",
        "        plt.xlabel('x')\n",
        "        plt.ylabel('y')\n",
        "        plt.show()"
      ],
      "metadata": {
        "id": "jnGDiIl0gDYS"
      },
      "execution_count": null,
      "outputs": []
    },
    {
      "cell_type": "code",
      "source": [
        "v0 = 100.0\n",
        "alpha = np.pi / 3\n",
        "g = 9.81\n",
        "k = 1.0\n",
        "mass = 100.0\n",
        "T = 15.0\n",
        "M = 70\n",
        "\n",
        "model = ProjectileMotion(T, M, mass, v0, k, alpha, g)\n",
        "model.solve()\n",
        "model.plot_trajectory()"
      ],
      "metadata": {
        "colab": {
          "base_uri": "https://localhost:8080/",
          "height": 472
        },
        "id": "m-mgNPxfg8ZX",
        "outputId": "6ebed55b-c752-46e2-ed24-2c1d0100219b"
      },
      "execution_count": null,
      "outputs": [
        {
          "output_type": "display_data",
          "data": {
            "text/plain": [
              "<Figure size 640x480 with 1 Axes>"
            ],
            "image/png": "[encoded data removed]"
          },
          "metadata": {}
        }
      ]
    },
    {
      "cell_type": "code",
      "source": [],
      "metadata": {
        "id": "w2v5UDFF8QYu"
      },
      "execution_count": null,
      "outputs": []
    }
  ]
}